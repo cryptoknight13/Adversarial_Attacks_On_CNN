{
 "cells": [
  {
   "cell_type": "code",
   "execution_count": 1,
   "id": "87a84bfc",
   "metadata": {},
   "outputs": [
    {
     "name": "stdout",
     "output_type": "stream",
     "text": [
      "Collecting foolbox\n",
      "  Downloading foolbox-3.3.3-py3-none-any.whl (1.7 MB)\n",
      "\u001b[K     |████████████████████████████████| 1.7 MB 10.7 MB/s eta 0:00:01\n",
      "\u001b[?25hRequirement already satisfied: setuptools in /Users/rakeshpodder/opt/anaconda3/lib/python3.9/site-packages (from foolbox) (61.2.0)\n",
      "Requirement already satisfied: typing-extensions>=3.7.4.1 in /Users/rakeshpodder/opt/anaconda3/lib/python3.9/site-packages (from foolbox) (4.1.1)\n",
      "Requirement already satisfied: numpy in /Users/rakeshpodder/opt/anaconda3/lib/python3.9/site-packages (from foolbox) (1.21.5)\n",
      "Requirement already satisfied: requests>=2.24.0 in /Users/rakeshpodder/opt/anaconda3/lib/python3.9/site-packages (from foolbox) (2.27.1)\n",
      "Requirement already satisfied: scipy in /Users/rakeshpodder/opt/anaconda3/lib/python3.9/site-packages (from foolbox) (1.7.3)\n",
      "Collecting GitPython>=3.0.7\n",
      "  Downloading GitPython-3.1.32-py3-none-any.whl (188 kB)\n",
      "\u001b[K     |████████████████████████████████| 188 kB 43.5 MB/s eta 0:00:01\n",
      "\u001b[?25hCollecting eagerpy>=0.30.0\n",
      "  Downloading eagerpy-0.30.0-py3-none-any.whl (31 kB)\n",
      "Collecting gitdb<5,>=4.0.1\n",
      "  Downloading gitdb-4.0.10-py3-none-any.whl (62 kB)\n",
      "\u001b[K     |████████████████████████████████| 62 kB 5.2 MB/s  eta 0:00:01\n",
      "\u001b[?25hCollecting smmap<6,>=3.0.1\n",
      "  Downloading smmap-5.0.0-py3-none-any.whl (24 kB)\n",
      "Requirement already satisfied: charset-normalizer~=2.0.0 in /Users/rakeshpodder/opt/anaconda3/lib/python3.9/site-packages (from requests>=2.24.0->foolbox) (2.0.4)\n",
      "Requirement already satisfied: certifi>=2017.4.17 in /Users/rakeshpodder/opt/anaconda3/lib/python3.9/site-packages (from requests>=2.24.0->foolbox) (2021.10.8)\n",
      "Requirement already satisfied: idna<4,>=2.5 in /Users/rakeshpodder/opt/anaconda3/lib/python3.9/site-packages (from requests>=2.24.0->foolbox) (3.3)\n",
      "Requirement already satisfied: urllib3<1.27,>=1.21.1 in /Users/rakeshpodder/opt/anaconda3/lib/python3.9/site-packages (from requests>=2.24.0->foolbox) (1.26.9)\n",
      "Installing collected packages: smmap, gitdb, GitPython, eagerpy, foolbox\n",
      "Successfully installed GitPython-3.1.32 eagerpy-0.30.0 foolbox-3.3.3 gitdb-4.0.10 smmap-5.0.0\n"
     ]
    }
   ],
   "source": [
    "!pip install foolbox"
   ]
  },
  {
   "cell_type": "code",
   "execution_count": 7,
   "id": "bf00d698",
   "metadata": {},
   "outputs": [
    {
     "name": "stdout",
     "output_type": "stream",
     "text": [
      "Train Epoch: 1 [0/60000 (0%)]\tLoss: 2.350855\n",
      "Train Epoch: 1 [6400/60000 (11%)]\tLoss: 0.729406\n",
      "Train Epoch: 1 [12800/60000 (21%)]\tLoss: 0.528356\n",
      "Train Epoch: 1 [19200/60000 (32%)]\tLoss: 0.470838\n",
      "Train Epoch: 1 [25600/60000 (43%)]\tLoss: 0.501242\n",
      "Train Epoch: 1 [32000/60000 (53%)]\tLoss: 0.434426\n",
      "Train Epoch: 1 [38400/60000 (64%)]\tLoss: 0.418050\n",
      "Train Epoch: 1 [44800/60000 (75%)]\tLoss: 0.423626\n",
      "Train Epoch: 1 [51200/60000 (85%)]\tLoss: 0.313954\n",
      "Train Epoch: 1 [57600/60000 (96%)]\tLoss: 0.104373\n",
      "\n",
      "Test set: Average loss: 0.0001, Accuracy: 9694/10000 (97%)\n",
      "\n",
      "Train Epoch: 2 [0/60000 (0%)]\tLoss: 0.149281\n",
      "Train Epoch: 2 [6400/60000 (11%)]\tLoss: 0.234822\n",
      "Train Epoch: 2 [12800/60000 (21%)]\tLoss: 0.396426\n",
      "Train Epoch: 2 [19200/60000 (32%)]\tLoss: 0.483084\n",
      "Train Epoch: 2 [25600/60000 (43%)]\tLoss: 0.187061\n",
      "Train Epoch: 2 [32000/60000 (53%)]\tLoss: 0.254686\n",
      "Train Epoch: 2 [38400/60000 (64%)]\tLoss: 0.457753\n",
      "Train Epoch: 2 [44800/60000 (75%)]\tLoss: 0.131371\n",
      "Train Epoch: 2 [51200/60000 (85%)]\tLoss: 0.183242\n",
      "Train Epoch: 2 [57600/60000 (96%)]\tLoss: 0.357090\n",
      "\n",
      "Test set: Average loss: 0.0001, Accuracy: 9790/10000 (98%)\n",
      "\n",
      "tensor(0.) tensor(1.)\n"
     ]
    }
   ],
   "source": [
    "import foolbox as fb\n",
    "import torch\n",
    "import torch.nn.functional as F\n",
    "import torch.nn as nn\n",
    "import torch.optim as optim\n",
    "import torchvision.datasets as datasets\n",
    "import torchvision.transforms as transforms\n",
    "\n",
    "# Define the model\n",
    "class Net(nn.Module):\n",
    "    def __init__(self):\n",
    "        super(Net, self).__init__()\n",
    "        self.conv1 = nn.Conv2d(1, 10, kernel_size=5)\n",
    "        self.conv2 = nn.Conv2d(10, 20, kernel_size=5)\n",
    "        self.conv2_drop = nn.Dropout2d()\n",
    "        self.fc1 = nn.Linear(320, 50)\n",
    "        self.fc2 = nn.Linear(50, 10)\n",
    "\n",
    "    def forward(self, x):\n",
    "        x = F.relu(F.max_pool2d(self.conv1(x), 2))\n",
    "        x = F.relu(F.max_pool2d(self.conv2_drop(self.conv2(x)), 2))\n",
    "        x = x.view(-1, 320)\n",
    "        x = F.relu(self.fc1(x))\n",
    "        x = F.dropout(x, training=self.training)\n",
    "        x = self.fc2(x)\n",
    "        return F.log_softmax(x, dim=1)\n",
    "\n",
    "# Load the MNIST dataset\n",
    "transform = transforms.Compose([\n",
    "    transforms.ToTensor(),\n",
    "    transforms.Normalize((0.1307,), (0.3081,))\n",
    "])\n",
    "\n",
    "train_loader = torch.utils.data.DataLoader(\n",
    "    datasets.MNIST('../data', train=True, download=True, transform=transform),\n",
    "    batch_size=64, shuffle=True)\n",
    "\n",
    "test_loader = torch.utils.data.DataLoader(\n",
    "    datasets.MNIST('../data', train=False, transform=transform),\n",
    "    batch_size=1000, shuffle=False)\n",
    "\n",
    "\n",
    "# Instantiate the model, define the loss and the optimizer\n",
    "model = Net()\n",
    "criterion = nn.CrossEntropyLoss()\n",
    "optimizer = optim.SGD(model.parameters(), lr=0.01, momentum=0.9)\n",
    "\n",
    "# Train the model\n",
    "def train(epoch):\n",
    "    model.train()\n",
    "    for batch_idx, (data, target) in enumerate(train_loader):\n",
    "        optimizer.zero_grad()\n",
    "        output = model(data)\n",
    "        loss = criterion(output, target)\n",
    "        loss.backward()\n",
    "        optimizer.step()\n",
    "        if batch_idx % 100 == 0:\n",
    "            print('Train Epoch: {} [{}/{} ({:.0f}%)]\\tLoss: {:.6f}'.format(\n",
    "                epoch, batch_idx * len(data), len(train_loader.dataset),\n",
    "                100. * batch_idx / len(train_loader), loss.item()))\n",
    "\n",
    "# Test the model\n",
    "def test():\n",
    "    model.eval()\n",
    "    test_loss = 0\n",
    "    correct = 0\n",
    "    with torch.no_grad():\n",
    "        for data, target in test_loader:\n",
    "            output = model(data)\n",
    "            test_loss += criterion(output, target).item()\n",
    "            pred = output.argmax(dim=1, keepdim=True)\n",
    "            correct += pred.eq(target.view_as(pred)).sum().item()\n",
    "\n",
    "    test_loss /= len(test_loader.dataset)\n",
    "\n",
    "    print('\\nTest set: Average loss: {:.4f}, Accuracy: {}/{} ({:.0f}%)\\n'.format(\n",
    "        test_loss, correct, len(test_loader.dataset),\n",
    "        100. * correct / len(test_loader.dataset)))\n",
    "\n",
    "# Train and test the model\n",
    "for epoch in range(1, 3):\n",
    "    train(epoch)\n",
    "    test()\n",
    "\n",
    "# Get a batch of images and labels from the test_loader\n",
    "images, labels = next(iter(test_loader))\n",
    "images = images * 0.3081 + 0.1307\n",
    "print(images.min(), images.max())\n",
    "\n",
    "# Generate adversarial example\n",
    "fmodel = fb.models.PyTorchModel(model, bounds=(0, 1))\n",
    "attack = fb.attacks.FGSM()\n",
    "epsilons = [0.0, 0.1, 0.2, 0.3, 0.4, 0.5, 0.6, 0.7, 0.8, 0.9, 1.0]\n",
    "\n",
    "_, advs, success = attack(fmodel, images, labels, epsilons=epsilons)\n",
    "\n"
   ]
  },
  {
   "cell_type": "code",
   "execution_count": 9,
   "id": "6de03a38",
   "metadata": {},
   "outputs": [
    {
     "data": {
      "text/plain": [
       "tensor([[False, False, False,  ..., False, False, False],\n",
       "        [False,  True, False,  ..., False, False,  True],\n",
       "        [False,  True, False,  ..., False,  True,  True],\n",
       "        ...,\n",
       "        [ True,  True, False,  ...,  True,  True,  True],\n",
       "        [ True,  True, False,  ...,  True,  True,  True],\n",
       "        [ True,  True, False,  ...,  True,  True,  True]])"
      ]
     },
     "execution_count": 9,
     "metadata": {},
     "output_type": "execute_result"
    }
   ],
   "source": [
    "success"
   ]
  },
  {
   "cell_type": "code",
   "execution_count": 11,
   "id": "6bdacbd2",
   "metadata": {},
   "outputs": [
    {
     "data": {
      "image/png": "[encoded data removed]",
      "text/plain": [
       "<Figure size 720x360 with 2 Axes>"
      ]
     },
     "metadata": {
      "needs_background": "light"
     },
     "output_type": "display_data"
    }
   ],
   "source": [
    "import matplotlib.pyplot as plt\n",
    "\n",
    "# Get a batch of images and labels from the test_loader\n",
    "images, labels = next(iter(test_loader))\n",
    "\n",
    "# Undo the normalization\n",
    "images = images * 0.3081 + 0.1307\n",
    "\n",
    "# Generate FGSM attack\n",
    "fgsm_attack = fb.attacks.FGSM()\n",
    "_, advs_fgsm, success_fgsm = fgsm_attack(fmodel, images, labels, epsilons=epsilons)\n",
    "\n",
    "# Select one image and one adversarial example from the batch\n",
    "image = images[0]\n",
    "adv_image = advs_fgsm[0][0]  # first epsilon, first image in the batch\n",
    "\n",
    "# Plot the original and adversarial images\n",
    "plt.figure(figsize=(10, 5))\n",
    "\n",
    "plt.subplot(1, 2, 1)\n",
    "plt.imshow(image.squeeze().detach().numpy(), cmap='gray')\n",
    "plt.title('Original Image')\n",
    "\n",
    "plt.subplot(1, 2, 2)\n",
    "plt.imshow(adv_image.squeeze().detach().numpy(), cmap='gray')\n",
    "plt.title('Adversarial Image (FGSM)')\n",
    "\n",
    "plt.show()"
   ]
  },
  {
   "cell_type": "code",
   "execution_count": 16,
   "id": "cee86bb0",
   "metadata": {},
   "outputs": [
    {
     "name": "stdout",
     "output_type": "stream",
     "text": [
      "PSNR: inf\n",
      "ERGAS: nan\n",
      "SSIM: 1.0\n",
      "SAM: nan\n"
     ]
    },
    {
     "name": "stderr",
     "output_type": "stream",
     "text": [
      "/Users/rakeshpodder/opt/anaconda3/lib/python3.9/site-packages/sewar/full_ref.py:264: RuntimeWarning: invalid value encountered in double_scalars\n",
      "  val = np.clip(np.dot(GT[:,i],P[:,i]) / (np.linalg.norm(GT[:,i])*np.linalg.norm(P[:,i])),-1,1)\n"
     ]
    }
   ],
   "source": [
    "from sewar import full_ref\n",
    "import numpy as np\n",
    "\n",
    "# Assume image and adv_image are the original and adversarial images\n",
    "# Convert them to numpy arrays\n",
    "image_np = image.squeeze().detach().numpy()\n",
    "adv_image_np = adv_image.squeeze().detach().numpy()\n",
    "\n",
    "# Add a dummy dimension to the images to make them 3D\n",
    "image_np = image_np[np.newaxis, :, :]\n",
    "adv_image_np = adv_image_np[np.newaxis, :, :]\n",
    "\n",
    "# PSNR\n",
    "psnr = full_ref.psnr(image_np, adv_image_np, MAX=1)\n",
    "\n",
    "# ERGAS\n",
    "ergas = full_ref.ergas(image_np, adv_image_np, r=1)\n",
    "\n",
    "# SSIM\n",
    "ssim = full_ref.ssim(image_np, adv_image_np, MAX=1, mode='same')[0]\n",
    "\n",
    "# SAM\n",
    "sam = full_ref.sam(image_np, adv_image_np)\n",
    "\n",
    "print(\"PSNR:\", psnr)\n",
    "print(\"ERGAS:\", ergas)\n",
    "print(\"SSIM:\", ssim)\n",
    "print(\"SAM:\", sam)\n",
    "\n",
    "\n"
   ]
  },
  {
   "cell_type": "code",
   "execution_count": null,
   "id": "f5b9b9c9",
   "metadata": {},
   "outputs": [],
   "source": []
  }
 ],
 "metadata": {
  "kernelspec": {
   "display_name": "Python 3 (ipykernel)",
   "language": "python",
   "name": "python3"
  },
  "language_info": {
   "codemirror_mode": {
    "name": "ipython",
    "version": 3
   },
   "file_extension": ".py",
   "mimetype": "text/x-python",
   "name": "python",
   "nbconvert_exporter": "python",
   "pygments_lexer": "ipython3",
   "version": "3.9.12"
  }
 },
 "nbformat": 4,
 "nbformat_minor": 5
}
